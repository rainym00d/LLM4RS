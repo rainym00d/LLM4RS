{
 "cells": [
  {
   "cell_type": "code",
   "execution_count": 1,
   "metadata": {},
   "outputs": [],
   "source": [
    "import pandas as pd\n",
    "import numpy as np\n",
    "import warnings\n",
    "import time\n",
    "import itertools\n",
    "import copy\n",
    "warnings.filterwarnings(\"ignore\")\n",
    "from IPython.core.interactiveshell import InteractiveShell\n",
    "InteractiveShell.ast_node_interactivity = 'all'\n",
    "pd.set_option('display.max_columns', None)\n",
    "pd.set_option('max_colwidth',100)"
   ]
  },
  {
   "cell_type": "code",
   "execution_count": 2,
   "metadata": {},
   "outputs": [],
   "source": [
    "dataset_name = \"/Movie\""
   ]
  },
  {
   "cell_type": "markdown",
   "metadata": {},
   "source": [
    "# 1. Read Data"
   ]
  },
  {
   "cell_type": "code",
   "execution_count": null,
   "metadata": {},
   "outputs": [],
   "source": [
    "rating_df = pd.read_csv('../Dataset/ml-1m/ratings.dat',sep=\"::\", names=[\"userid\",\"itemid\",\"rating\",\"timestamp\"])\n",
    "rating_df\n",
    "(rating_df.isna().sum()/rating_df.shape[0]).sort_values(ascending=False)\n",
    "rating_df[\"userid\"].max()\n",
    "rating_df[\"itemid\"].max()"
   ]
  },
  {
   "cell_type": "code",
   "execution_count": null,
   "metadata": {},
   "outputs": [],
   "source": [
    "user_df = pd.read_csv('../Dataset/ml-1m/users.dat',sep=\"::\", names=[\"userid\",\"gender\",\"age\",\"occupation\",\"zip_code\"])\n",
    "user_df\n",
    "(user_df.isna().sum()/user_df.shape[0]).sort_values(ascending=False)"
   ]
  },
  {
   "cell_type": "code",
   "execution_count": null,
   "metadata": {},
   "outputs": [],
   "source": [
    "item_df = pd.read_csv('../Dataset/ml-1m/movies.dat',sep=\"::\", names=[\"itemid\",\"title\",\"genres\"],encoding=\"latin-1\")\n",
    "item_df\n",
    "(item_df.isna().sum()/item_df.shape[0]).sort_values(ascending=False)"
   ]
  },
  {
   "cell_type": "markdown",
   "metadata": {},
   "source": [
    "# 2. Fliter"
   ]
  },
  {
   "cell_type": "code",
   "execution_count": null,
   "metadata": {},
   "outputs": [],
   "source": [
    "item_title_exist_idset = item_df.itemid.tolist()\n",
    "rating_df_fliter = rating_df[rating_df[\"itemid\"].isin(item_title_exist_idset)].reset_index(drop=True)\n",
    "rating_df_fliter"
   ]
  },
  {
   "cell_type": "code",
   "execution_count": null,
   "metadata": {},
   "outputs": [],
   "source": [
    "rating_df_fliter[\"label\"] = rating_df_fliter[\"rating\"].apply(lambda x: 1 if x>=4 else 0)\n",
    "rating_df_fliter"
   ]
  },
  {
   "cell_type": "code",
   "execution_count": null,
   "metadata": {},
   "outputs": [],
   "source": [
    "rating_df_fliter[rating_df_fliter[\"label\"]==1].shape[0] / rating_df_fliter.shape[0]"
   ]
  },
  {
   "cell_type": "code",
   "execution_count": null,
   "metadata": {},
   "outputs": [],
   "source": [
    "item_pop = rating_df_fliter[rating_df_fliter[\"label\"]==1][\"itemid\"].value_counts().rename_axis(\"itemid\").reset_index(name=\"pop\")\n",
    "item_pop"
   ]
  },
  {
   "cell_type": "code",
   "execution_count": null,
   "metadata": {},
   "outputs": [],
   "source": [
    "rating_df_fliter.sort_values([\"userid\", \"timestamp\"] , inplace=True, ascending=True)\n",
    "sequence_df = rating_df_fliter.groupby(['userid']).agg(\n",
    "    itemid_seq=(\"itemid\", list),\n",
    "    label_seq=(\"label\", list)\n",
    ").reset_index()\n",
    "sequence_df"
   ]
  },
  {
   "cell_type": "code",
   "execution_count": null,
   "metadata": {},
   "outputs": [],
   "source": [
    "def get_seq(row):\n",
    "    pos_seq = []\n",
    "    neg_seq = []\n",
    "    for i in range(len(row.label_seq)):\n",
    "        if row.label_seq[i]==1:\n",
    "            pos_seq.append(row.itemid_seq[i])\n",
    "        else:\n",
    "            neg_seq.append(row.itemid_seq[i])\n",
    "    return pos_seq, neg_seq, len(row.itemid_seq), len(pos_seq), len(neg_seq)\n",
    "\n",
    "sequence_df[[\"pos_seq\",\"neg_seq\", \"seq_length\", \"pos_seq_length\", \"neg_seq_length\"]] = sequence_df.apply(get_seq, axis=1, result_type=\"expand\") \n",
    "sequence_df"
   ]
  },
  {
   "cell_type": "code",
   "execution_count": null,
   "metadata": {},
   "outputs": [],
   "source": [
    "sequence_df_fliter = sequence_df[(sequence_df[\"pos_seq_length\"]>=12) & (sequence_df[\"neg_seq_length\"]>=10)].reset_index(drop=True)\n",
    "sequence_df_fliter"
   ]
  },
  {
   "cell_type": "code",
   "execution_count": null,
   "metadata": {},
   "outputs": [],
   "source": [
    "def get_new_df(df, n):\n",
    "    df_new = copy.deepcopy(df)\n",
    "    df_new[\"pos_seq\"] = df_new[\"pos_seq\"].apply(lambda x: x[:-n]) \n",
    "    df_new[\"pos_seq_length\"] = df_new[\"pos_seq\"].apply(lambda x:len(x))\n",
    "\n",
    "    return df_new\n",
    "\n",
    "sequence_df_fliter[\"data_index\"] = sequence_df_fliter[\"userid\"].apply(lambda x: 0)\n",
    "sequence_df_fliter_list = [sequence_df_fliter]\n",
    "for i in range(1, 2):\n",
    "    sequence_df_fliter_new = get_new_df(sequence_df_fliter, i)\n",
    "    sequence_df_fliter_new[\"data_index\"] = sequence_df_fliter_new[\"userid\"].apply(lambda x: i)\n",
    "    sequence_df_fliter_list.append(sequence_df_fliter_new)\n",
    "    \n",
    "full_sequence_df = pd.concat(sequence_df_fliter_list).reset_index(drop=True)\n",
    "full_sequence_df"
   ]
  },
  {
   "cell_type": "markdown",
   "metadata": {},
   "source": [
    "# 3. Gnerate Test Data for Top-k Ranking"
   ]
  },
  {
   "cell_type": "code",
   "execution_count": null,
   "metadata": {},
   "outputs": [],
   "source": [
    "import random\n",
    "random.seed(2023)\n",
    "\n",
    "def get_pos_neg_target(row):\n",
    "\n",
    "    return row.pos_seq[-1], row.neg_seq[-1]\n",
    "\n",
    "\n",
    "def get_full_candidate(row, n_candidate):\n",
    "    cache = copy.deepcopy(row.neg_seq)\n",
    "    cache.remove(row.neg_id_target)\n",
    "    candidate = [row.pos_id_target] + [row.neg_id_target] + (random.sample(cache, n_candidate-2))\n",
    "    random.shuffle(candidate)\n",
    "    \n",
    "    return candidate\n",
    "\n",
    "\n",
    "def get_sub_candidate(row, n_candidate):\n",
    "    cand_cache = copy.deepcopy(row.full_candidate)\n",
    "    cand_cache.remove(row.pos_id_target)\n",
    "    cand_cache.remove(row.neg_id_target)\n",
    "    candidate = [row.pos_id_target] + [row.neg_id_target] + (random.sample(list(cand_cache), n_candidate-2))\n",
    "    random.shuffle(candidate)\n",
    "    \n",
    "    return candidate\n",
    "\n",
    "\n",
    "def get_full_history(row, n_history):\n",
    "    history = row.pos_seq[-1-n_history : -1]\n",
    "    return history\n",
    "\n",
    "\n",
    "def get_sub_history(row, n_history):\n",
    "    history = row.full_history[0-n_history : ]\n",
    "    return history\n",
    "\n",
    "def get_pos_target_index(row):\n",
    "    return row[\"itemid_candidate\"].index(row[\"pos_id_target\"])"
   ]
  },
  {
   "cell_type": "code",
   "execution_count": null,
   "metadata": {},
   "outputs": [],
   "source": [
    "full_sequence_df_new = full_sequence_df[[\"userid\",\"pos_seq\",\"neg_seq\",\"data_index\"]]\n",
    "full_sequence_df_new[[\"pos_id_target\", \"neg_id_target\"]] = full_sequence_df_new.apply(get_pos_neg_target, axis=1, result_type=\"expand\")\n",
    "full_sequence_df_new[\"full_candidate\"] = full_sequence_df_new.apply(get_full_candidate, n_candidate=10, axis=1)"
   ]
  },
  {
   "cell_type": "code",
   "execution_count": null,
   "metadata": {
    "scrolled": true
   },
   "outputs": [],
   "source": [
    "full_sequence_df_new[\"full_history\"] = full_sequence_df_new.apply(get_full_history, n_history=10, axis=1)\n",
    "full_sequence_df_new"
   ]
  },
  {
   "cell_type": "code",
   "execution_count": null,
   "metadata": {},
   "outputs": [],
   "source": [
    "full_sequence_df_new.to_csv(f\"./Dataset/{dataset_name}/processed/full_sequence_df.csv\", sep=\"\\t\", index=False)"
   ]
  },
  {
   "cell_type": "code",
   "execution_count": null,
   "metadata": {},
   "outputs": [],
   "source": [
    "def get_pairwise_data(row):\n",
    "    candidate = row.itemid_candidate\n",
    "    pos = candidate[row.pos_target_index]\n",
    "    neg_list = copy.deepcopy(candidate)\n",
    "    neg_list.remove(pos)\n",
    "    pair_list = []\n",
    "    answer_list = []\n",
    "    for neg in neg_list:\n",
    "        pair = [pos, neg]\n",
    "        random.shuffle(pair)\n",
    "        answer = pair.index(pos)\n",
    "        pair_list.append(pair)\n",
    "        answer_list.append(answer)\n",
    "    \n",
    "    return pair_list, answer_list"
   ]
  },
  {
   "cell_type": "code",
   "execution_count": null,
   "metadata": {},
   "outputs": [],
   "source": [
    "def get_topk_final_data(df):\n",
    "    for n_candidate in [2,5,10]:\n",
    "        for n_history in [1,3,5,10]:\n",
    "            print(f\"n_candidate:{n_candidate} ; n_history{n_history}\")\n",
    "            LLM_top1_data = copy.deepcopy(df)\n",
    "            LLM_top1_data[\"itemid_candidate\"] = LLM_top1_data.apply(get_sub_candidate, n_candidate=n_candidate, axis=1)\n",
    "            LLM_top1_data[\"itemid_history\"] = LLM_top1_data.apply(get_sub_history, n_history=n_history, axis=1)\n",
    "            LLM_top1_data[\"pos_target_index\"] = LLM_top1_data.apply(get_pos_target_index, axis=1)\n",
    "            LLM_top1_data = LLM_top1_data.sample(frac=1.0, random_state=2023).reset_index(drop=True)\n",
    "            LLM_top1_data[[\"pair_itemid_candidate\", \"pair_pos_target_index\"]] = LLM_top1_data.apply(get_pairwise_data, axis=1, result_type=\"expand\")\n",
    "            LLM_top1_data.to_csv(f\"./Dataset/{dataset_name}/LLM/topk_candidate@{n_candidate}_history@{n_history}.csv\", sep=\"\\t\", index=False)"
   ]
  },
  {
   "cell_type": "code",
   "execution_count": null,
   "metadata": {
    "scrolled": true
   },
   "outputs": [],
   "source": [
    "get_topk_final_data(full_sequence_df_new)"
   ]
  },
  {
   "attachments": {},
   "cell_type": "markdown",
   "metadata": {},
   "source": [
    "# 4. Generate Datamaps"
   ]
  },
  {
   "cell_type": "code",
   "execution_count": null,
   "metadata": {},
   "outputs": [],
   "source": [
    "def process_movielens_name(s):\n",
    "    s = s[:-7]\n",
    "    s = s.split(\" (\")[0]\n",
    "    for pattern in [\", The\", \", A\"]:\n",
    "        if s.endswith(pattern):\n",
    "            s = pattern.split(\", \")[1] + \" \" + s.replace(pattern, \"\")\n",
    "    return s\n",
    "item_df[\"title\"] = item_df[\"title\"].apply(lambda x: process_movielens_name(x))\n",
    "item_df"
   ]
  },
  {
   "cell_type": "code",
   "execution_count": null,
   "metadata": {},
   "outputs": [],
   "source": [
    "id2item_dict = item_df.set_index(\"itemid\")[\"title\"].to_dict()\n",
    "id2item_dict\n",
    "item2id_dict = item_df.set_index(\"title\")[\"itemid\"].to_dict()\n",
    "item2id_dict"
   ]
  },
  {
   "cell_type": "code",
   "execution_count": null,
   "metadata": {},
   "outputs": [],
   "source": [
    "datamaps = {}\n",
    "datamaps[\"id2item_dict\"] = id2item_dict\n",
    "datamaps[\"item2id_dict\"] = item2id_dict\n",
    "\n",
    "import json\n",
    "json_str = json.dumps(datamaps)\n",
    "with open(f\"./Dataset/{dataset_name}/LLM/datamaps.json\", 'w') as out:\n",
    "    out.write(json_str)\n"
   ]
  },
  {
   "cell_type": "code",
   "execution_count": null,
   "metadata": {},
   "outputs": [],
   "source": [
    "item2pop_dict = item_pop.set_index(\"itemid\")[\"pop\"].to_dict()\n",
    "for i in id2item_dict.keys():\n",
    "    if i not in item2pop_dict.keys():\n",
    "        item2pop_dict[i] = 0\n",
    "item2pop_dict\n",
    "\n",
    "json_str = json.dumps(item2pop_dict)\n",
    "with open(f\"./Dataset/{dataset_name}/LLM/popularity_datamaps.json\", 'w') as out:\n",
    "    out.write(json_str)"
   ]
  },
  {
   "cell_type": "markdown",
   "metadata": {},
   "source": [
    "## Example of Loading Final Evaluation Data "
   ]
  },
  {
   "cell_type": "code",
   "execution_count": 3,
   "metadata": {},
   "outputs": [
    {
     "data": {
      "text/html": [
       "<div>\n",
       "<style scoped>\n",
       "    .dataframe tbody tr th:only-of-type {\n",
       "        vertical-align: middle;\n",
       "    }\n",
       "\n",
       "    .dataframe tbody tr th {\n",
       "        vertical-align: top;\n",
       "    }\n",
       "\n",
       "    .dataframe thead th {\n",
       "        text-align: right;\n",
       "    }\n",
       "</style>\n",
       "<table border=\"1\" class=\"dataframe\">\n",
       "  <thead>\n",
       "    <tr style=\"text-align: right;\">\n",
       "      <th></th>\n",
       "      <th>userid</th>\n",
       "      <th>itemid_history</th>\n",
       "      <th>pos_target_index</th>\n",
       "      <th>itemid_candidate</th>\n",
       "      <th>pair_itemid_candidate</th>\n",
       "      <th>pair_pos_target_index</th>\n",
       "    </tr>\n",
       "  </thead>\n",
       "  <tbody>\n",
       "    <tr>\n",
       "      <th>0</th>\n",
       "      <td>2424</td>\n",
       "      <td>[1653, 1917, 2797, 2017, 3578]</td>\n",
       "      <td>3</td>\n",
       "      <td>[1552, 1907, 1249, 1466, 2628]</td>\n",
       "      <td>[[1552, 1466], [1907, 1466], [1249, 1466], [1466, 2628]]</td>\n",
       "      <td>[1, 1, 1, 0]</td>\n",
       "    </tr>\n",
       "    <tr>\n",
       "      <th>1</th>\n",
       "      <td>1026</td>\n",
       "      <td>[3556, 3902, 3185, 3578, 3598]</td>\n",
       "      <td>3</td>\n",
       "      <td>[3952, 1069, 3749, 3570, 2940]</td>\n",
       "      <td>[[3952, 3570], [3570, 1069], [3570, 3749], [2940, 3570]]</td>\n",
       "      <td>[1, 0, 0, 1]</td>\n",
       "    </tr>\n",
       "    <tr>\n",
       "      <th>2</th>\n",
       "      <td>5680</td>\n",
       "      <td>[1589, 1597, 1711, 1459, 2187]</td>\n",
       "      <td>1</td>\n",
       "      <td>[2076, 1805, 1092, 3519, 1210]</td>\n",
       "      <td>[[2076, 1805], [1805, 1092], [3519, 1805], [1210, 1805]]</td>\n",
       "      <td>[1, 0, 1, 1]</td>\n",
       "    </tr>\n",
       "    <tr>\n",
       "      <th>3</th>\n",
       "      <td>123</td>\n",
       "      <td>[381, 14, 3809, 1661, 3051]</td>\n",
       "      <td>2</td>\n",
       "      <td>[3791, 450, 1352, 2600, 1079]</td>\n",
       "      <td>[[1352, 3791], [450, 1352], [1352, 2600], [1352, 1079]]</td>\n",
       "      <td>[0, 1, 0, 0]</td>\n",
       "    </tr>\n",
       "    <tr>\n",
       "      <th>4</th>\n",
       "      <td>1531</td>\n",
       "      <td>[2455, 3481, 1965, 480, 2454]</td>\n",
       "      <td>1</td>\n",
       "      <td>[144, 3450, 3457, 23, 3917]</td>\n",
       "      <td>[[144, 3450], [3457, 3450], [23, 3450], [3917, 3450]]</td>\n",
       "      <td>[1, 1, 1, 1]</td>\n",
       "    </tr>\n",
       "    <tr>\n",
       "      <th>...</th>\n",
       "      <td>...</td>\n",
       "      <td>...</td>\n",
       "      <td>...</td>\n",
       "      <td>...</td>\n",
       "      <td>...</td>\n",
       "      <td>...</td>\n",
       "    </tr>\n",
       "    <tr>\n",
       "      <th>9933</th>\n",
       "      <td>1072</td>\n",
       "      <td>[3379, 1387, 898, 58, 1674]</td>\n",
       "      <td>4</td>\n",
       "      <td>[34, 2396, 2724, 3545, 296]</td>\n",
       "      <td>[[34, 296], [2396, 296], [2724, 296], [296, 3545]]</td>\n",
       "      <td>[1, 1, 1, 0]</td>\n",
       "    </tr>\n",
       "    <tr>\n",
       "      <th>9934</th>\n",
       "      <td>1316</td>\n",
       "      <td>[2686, 3185, 2070, 2396, 2791]</td>\n",
       "      <td>1</td>\n",
       "      <td>[2699, 3929, 3596, 1129, 2572]</td>\n",
       "      <td>[[2699, 3929], [3929, 3596], [3929, 1129], [3929, 2572]]</td>\n",
       "      <td>[1, 0, 0, 0]</td>\n",
       "    </tr>\n",
       "    <tr>\n",
       "      <th>9935</th>\n",
       "      <td>3343</td>\n",
       "      <td>[318, 3743, 3861, 3752, 3617]</td>\n",
       "      <td>0</td>\n",
       "      <td>[3798, 3263, 3785, 528, 3578]</td>\n",
       "      <td>[[3798, 3263], [3785, 3798], [3798, 528], [3578, 3798]]</td>\n",
       "      <td>[0, 1, 0, 1]</td>\n",
       "    </tr>\n",
       "    <tr>\n",
       "      <th>9936</th>\n",
       "      <td>840</td>\n",
       "      <td>[1955, 1372, 580, 1927, 2302]</td>\n",
       "      <td>3</td>\n",
       "      <td>[2070, 3606, 148, 2762, 2968]</td>\n",
       "      <td>[[2762, 2070], [2762, 3606], [2762, 148], [2762, 2968]]</td>\n",
       "      <td>[0, 0, 0, 0]</td>\n",
       "    </tr>\n",
       "    <tr>\n",
       "      <th>9937</th>\n",
       "      <td>6019</td>\n",
       "      <td>[1544, 1552, 1917, 736, 1779]</td>\n",
       "      <td>1</td>\n",
       "      <td>[2860, 2, 1127, 2153, 597]</td>\n",
       "      <td>[[2860, 2], [1127, 2], [2153, 2], [2, 597]]</td>\n",
       "      <td>[1, 1, 1, 0]</td>\n",
       "    </tr>\n",
       "  </tbody>\n",
       "</table>\n",
       "<p>9938 rows × 6 columns</p>\n",
       "</div>"
      ],
      "text/plain": [
       "      userid                  itemid_history  pos_target_index  \\\n",
       "0       2424  [1653, 1917, 2797, 2017, 3578]                 3   \n",
       "1       1026  [3556, 3902, 3185, 3578, 3598]                 3   \n",
       "2       5680  [1589, 1597, 1711, 1459, 2187]                 1   \n",
       "3        123     [381, 14, 3809, 1661, 3051]                 2   \n",
       "4       1531   [2455, 3481, 1965, 480, 2454]                 1   \n",
       "...      ...                             ...               ...   \n",
       "9933    1072     [3379, 1387, 898, 58, 1674]                 4   \n",
       "9934    1316  [2686, 3185, 2070, 2396, 2791]                 1   \n",
       "9935    3343   [318, 3743, 3861, 3752, 3617]                 0   \n",
       "9936     840   [1955, 1372, 580, 1927, 2302]                 3   \n",
       "9937    6019   [1544, 1552, 1917, 736, 1779]                 1   \n",
       "\n",
       "                    itemid_candidate  \\\n",
       "0     [1552, 1907, 1249, 1466, 2628]   \n",
       "1     [3952, 1069, 3749, 3570, 2940]   \n",
       "2     [2076, 1805, 1092, 3519, 1210]   \n",
       "3      [3791, 450, 1352, 2600, 1079]   \n",
       "4        [144, 3450, 3457, 23, 3917]   \n",
       "...                              ...   \n",
       "9933     [34, 2396, 2724, 3545, 296]   \n",
       "9934  [2699, 3929, 3596, 1129, 2572]   \n",
       "9935   [3798, 3263, 3785, 528, 3578]   \n",
       "9936   [2070, 3606, 148, 2762, 2968]   \n",
       "9937      [2860, 2, 1127, 2153, 597]   \n",
       "\n",
       "                                         pair_itemid_candidate  \\\n",
       "0     [[1552, 1466], [1907, 1466], [1249, 1466], [1466, 2628]]   \n",
       "1     [[3952, 3570], [3570, 1069], [3570, 3749], [2940, 3570]]   \n",
       "2     [[2076, 1805], [1805, 1092], [3519, 1805], [1210, 1805]]   \n",
       "3      [[1352, 3791], [450, 1352], [1352, 2600], [1352, 1079]]   \n",
       "4        [[144, 3450], [3457, 3450], [23, 3450], [3917, 3450]]   \n",
       "...                                                        ...   \n",
       "9933        [[34, 296], [2396, 296], [2724, 296], [296, 3545]]   \n",
       "9934  [[2699, 3929], [3929, 3596], [3929, 1129], [3929, 2572]]   \n",
       "9935   [[3798, 3263], [3785, 3798], [3798, 528], [3578, 3798]]   \n",
       "9936   [[2762, 2070], [2762, 3606], [2762, 148], [2762, 2968]]   \n",
       "9937               [[2860, 2], [1127, 2], [2153, 2], [2, 597]]   \n",
       "\n",
       "     pair_pos_target_index  \n",
       "0             [1, 1, 1, 0]  \n",
       "1             [1, 0, 0, 1]  \n",
       "2             [1, 0, 1, 1]  \n",
       "3             [0, 1, 0, 0]  \n",
       "4             [1, 1, 1, 1]  \n",
       "...                    ...  \n",
       "9933          [1, 1, 1, 0]  \n",
       "9934          [1, 0, 0, 0]  \n",
       "9935          [0, 1, 0, 1]  \n",
       "9936          [0, 0, 0, 0]  \n",
       "9937          [1, 1, 1, 0]  \n",
       "\n",
       "[9938 rows x 6 columns]"
      ]
     },
     "execution_count": 3,
     "metadata": {},
     "output_type": "execute_result"
    }
   ],
   "source": [
    "read_example_df = pd.read_csv(f\"./Dataset/{dataset_name}/LLM/topk_candidate@5_history@5.csv\", delimiter=\"\\t\")\n",
    "read_example_df = read_example_df[[\"userid\", \"itemid_history\", \"pos_target_index\", \"itemid_candidate\", \"pair_itemid_candidate\", \"pair_pos_target_index\"]]\n",
    "for col in ['itemid_history', 'itemid_candidate', \"pair_itemid_candidate\", \"pair_pos_target_index\"]:\n",
    "    read_example_df[col] = read_example_df[col].apply(lambda x: eval(x))\n",
    "    \n",
    "read_example_df"
   ]
  },
  {
   "cell_type": "code",
   "execution_count": 4,
   "metadata": {},
   "outputs": [
    {
     "data": {
      "text/plain": [
       "array([[1552, 1907, 1249, 1466, 2628],\n",
       "       [3952, 1069, 3749, 3570, 2940],\n",
       "       [2076, 1805, 1092, 3519, 1210],\n",
       "       ...,\n",
       "       [3798, 3263, 3785,  528, 3578],\n",
       "       [2070, 3606,  148, 2762, 2968],\n",
       "       [2860,    2, 1127, 2153,  597]])"
      ]
     },
     "execution_count": 4,
     "metadata": {},
     "output_type": "execute_result"
    }
   ],
   "source": [
    "read_example_df = pd.read_csv(f\"./Dataset/{dataset_name}/LLM/topk_candidate@5_history@5.csv\", delimiter=\"\\t\")\n",
    "read_example_df = read_example_df[[\"userid\", \"pos_target_index\", \"itemid_candidate\"]]\n",
    "read_example_df[\"itemid_candidate\"] = read_example_df[\"itemid_candidate\"].apply(lambda x: x[1:-1])\n",
    "candidate = read_example_df['itemid_candidate'].str.split(',', expand=True)\n",
    "for col in candidate.columns:\n",
    "    candidate[col] = candidate[col].apply(lambda x: int(x))\n",
    "candidate.values"
   ]
  },
  {
   "cell_type": "code",
   "execution_count": null,
   "metadata": {},
   "outputs": [],
   "source": []
  }
 ],
 "metadata": {
  "kernelspec": {
   "display_name": "torch_1_6",
   "language": "python",
   "name": "torch_1_6"
  },
  "language_info": {
   "codemirror_mode": {
    "name": "ipython",
    "version": 3
   },
   "file_extension": ".py",
   "mimetype": "text/x-python",
   "name": "python",
   "nbconvert_exporter": "python",
   "pygments_lexer": "ipython3",
   "version": "3.8.12"
  }
 },
 "nbformat": 4,
 "nbformat_minor": 2
}
